{
 "cells": [
  {
   "cell_type": "code",
   "execution_count": 1,
   "metadata": {},
   "outputs": [
    {
     "name": "stdout",
     "output_type": "stream",
     "text": "import done\n"
    }
   ],
   "source": [
    "from rtlsdr import RtlSdr\n",
    "import numpy as np\n",
    "import matplotlib.pyplot as plt\n",
    "import scipy.signal as signal\n",
    "import csv\n",
    "print('import done')"
   ]
  },
  {
   "cell_type": "code",
   "execution_count": 2,
   "metadata": {},
   "outputs": [
    {
     "data": {
      "text/plain": "34"
     },
     "execution_count": 2,
     "metadata": {},
     "output_type": "execute_result"
    }
   ],
   "source": [
    "32+2"
   ]
  },
  {
   "cell_type": "code",
   "execution_count": 3,
   "metadata": {},
   "outputs": [],
   "source": [
    "def make_data(n=10000,obj='without_obj'):\n",
    "    fs = 2.6e6\n",
    "    with open(\"{0}.csv\".format(obj),\"w\",newline=\"\") as f:\n",
    "        for i in range(n):\n",
    "            sdr = RtlSdr()\n",
    "            samples = []\n",
    "            sdr.sample_rate = 2.6e5\n",
    "            sdr.center_freq = 433e6\n",
    "            sdr.gain = 40\n",
    "            sample = sdr.read_samples(1024*512)\n",
    "            sdr.close()\n",
    "            samples.append(sample.tolist())\n",
    "            print(i)\n",
    "            f, t, Sxx = signal.spectrogram(sample, fs, return_onesided=False)\n",
    "            plt.pcolormesh(t, f, Sxx)\n",
    "            print('!')\n",
    "            plt.ylabel('Frequency [Hz]')\n",
    "            plt.xlabel('Time [sec]')\n",
    "            plt.axis('off')\n",
    "            plt.show()\n",
    "        \n",
    "            plt.savefig(\"specg_{1}.png\".format(i), bbox_inches='tight')\n",
    "            samples.append(sample.tolist())\n",
    "            writer = csv.writer(f)\n",
    "            writer.writerows(samples)"
   ]
  },
  {
   "cell_type": "code",
   "execution_count": 5,
   "metadata": {},
   "outputs": [
    {
     "name": "stdout",
     "output_type": "stream",
     "text": "0\n!\n"
    },
    {
     "ename": "IndexError",
     "evalue": "tuple index out of range",
     "output_type": "error",
     "traceback": [
      "\u001b[0;31m---------------------------------------------------------------------------\u001b[0m",
      "\u001b[0;31mIndexError\u001b[0m                                Traceback (most recent call last)",
      "\u001b[0;32m<ipython-input-5-8a3a8d53fc79>\u001b[0m in \u001b[0;36m<module>\u001b[0;34m\u001b[0m\n\u001b[0;32m----> 1\u001b[0;31m \u001b[0mmake_data\u001b[0m\u001b[0;34m(\u001b[0m\u001b[0;36m1\u001b[0m\u001b[0;34m,\u001b[0m\u001b[0;34m'without_obj_1'\u001b[0m\u001b[0;34m)\u001b[0m\u001b[0;34m\u001b[0m\u001b[0;34m\u001b[0m\u001b[0m\n\u001b[0m",
      "\u001b[0;32m<ipython-input-3-3829ba008e5d>\u001b[0m in \u001b[0;36mmake_data\u001b[0;34m(n, obj)\u001b[0m\n\u001b[1;32m     20\u001b[0m             \u001b[0;31m#plt.show()\u001b[0m\u001b[0;34m\u001b[0m\u001b[0;34m\u001b[0m\u001b[0;34m\u001b[0m\u001b[0m\n\u001b[1;32m     21\u001b[0m \u001b[0;34m\u001b[0m\u001b[0m\n\u001b[0;32m---> 22\u001b[0;31m             \u001b[0mplt\u001b[0m\u001b[0;34m.\u001b[0m\u001b[0msavefig\u001b[0m\u001b[0;34m(\u001b[0m\u001b[0;34m'specg_{1}.png'\u001b[0m\u001b[0;34m.\u001b[0m\u001b[0mformat\u001b[0m\u001b[0;34m(\u001b[0m\u001b[0mi\u001b[0m\u001b[0;34m)\u001b[0m\u001b[0;34m,\u001b[0m \u001b[0mbbox_inches\u001b[0m\u001b[0;34m=\u001b[0m\u001b[0;34m'tight'\u001b[0m\u001b[0;34m)\u001b[0m\u001b[0;34m\u001b[0m\u001b[0;34m\u001b[0m\u001b[0m\n\u001b[0m\u001b[1;32m     23\u001b[0m             \u001b[0msamples\u001b[0m\u001b[0;34m.\u001b[0m\u001b[0mappend\u001b[0m\u001b[0;34m(\u001b[0m\u001b[0msample\u001b[0m\u001b[0;34m.\u001b[0m\u001b[0mtolist\u001b[0m\u001b[0;34m(\u001b[0m\u001b[0;34m)\u001b[0m\u001b[0;34m)\u001b[0m\u001b[0;34m\u001b[0m\u001b[0;34m\u001b[0m\u001b[0m\n\u001b[1;32m     24\u001b[0m             \u001b[0mwriter\u001b[0m \u001b[0;34m=\u001b[0m \u001b[0mcsv\u001b[0m\u001b[0;34m.\u001b[0m\u001b[0mwriter\u001b[0m\u001b[0;34m(\u001b[0m\u001b[0mf\u001b[0m\u001b[0;34m)\u001b[0m\u001b[0;34m\u001b[0m\u001b[0;34m\u001b[0m\u001b[0m\n",
      "\u001b[0;31mIndexError\u001b[0m: tuple index out of range"
     ]
    }
   ],
   "source": [
    "make_data(1,'without_obj_1')"
   ]
  },
  {
   "cell_type": "code",
   "execution_count": 16,
   "metadata": {},
   "outputs": [],
   "source": [
    "import time\n",
    "\n",
    "def make_difference_data(n=10000,obj='without_obj', label=0):\n",
    "    fs = 2.6e6\n",
    "    for i in range(n):\n",
    "        samples = np.empty([],dtype=np.complex128)\n",
    "        ctr=0\n",
    "        while ctr<2:\n",
    "            ctr+=1\n",
    "            sdr = RtlSdr()\n",
    "\n",
    "            sdr.sample_rate = 2.6e6\n",
    "            sdr.center_freq = 400e6\n",
    "            sdr.gain = 40\n",
    "            sample_with = sdr.read_samples(1024*1024*4)\n",
    "            sdr.close()\n",
    "            \n",
    "            np.concatenate([samples, sample], axis=0)\n",
    "        \n",
    "        samples_with_obj = samples\n",
    "        print(\"Remove/Place the object\")\n",
    "        time.sleep(8)\n",
    "        \n",
    "        samples = np.empty([],dtype=np.complex128)\n",
    "        ctr=0\n",
    "        while ctr<2:\n",
    "            ctr+=1\n",
    "            sdr = RtlSdr()\n",
    "\n",
    "            sdr.sample_rate = 2.6e6\n",
    "            sdr.center_freq = 400e6\n",
    "            sdr.gain = 40\n",
    "            sample_with = sdr.read_samples(1024*1024*4)\n",
    "            sdr.close()\n",
    "            \n",
    "            np.concatenate(samples, sample)\n",
    "        \n",
    "        samples_without_obj = samples\n",
    "        \n",
    "        samples_diff = samples_with_obj-samples_without_obj\n",
    "\n",
    "        f, t, Sxx = signal.spectrogram(samples_diff, fs, return_onesided=False)\n",
    "        plt.pcolormesh(t, f, Sxx)\n",
    "        plt.ylabel('Frequency [Hz]')\n",
    "        plt.xlabel('Time [sec]')\n",
    "        plt.axis('off')\n",
    "        \n",
    "        plt.savefig('spec_diff/specg_{1}.png'.format(i), bbox_inches='tight')\n",
    "        \n",
    "    \n",
    "        "
   ]
  },
  {
   "cell_type": "code",
   "execution_count": null,
   "metadata": {},
   "outputs": [],
   "source": []
  }
 ],
 "metadata": {
  "kernelspec": {
   "display_name": "Python 3.6.8 64-bit",
   "language": "python",
   "name": "python36864bit0eb5b81d8ffd41e28341eda528c0bd51"
  },
  "language_info": {
   "codemirror_mode": {
    "name": "ipython",
    "version": 3
   },
   "file_extension": ".py",
   "mimetype": "text/x-python",
   "name": "python",
   "nbconvert_exporter": "python",
   "pygments_lexer": "ipython3",
   "version": "3.6.8-final"
  },
  "latex_envs": {
   "LaTeX_envs_menu_present": true,
   "autoclose": false,
   "autocomplete": true,
   "bibliofile": "biblio.bib",
   "cite_by": "apalike",
   "current_citInitial": 1,
   "eqLabelWithNumbers": true,
   "eqNumInitial": 1,
   "hotkeys": {
    "equation": "Ctrl-E",
    "itemize": "Ctrl-I"
   },
   "labels_anchors": false,
   "latex_user_defs": false,
   "report_style_numbering": false,
   "user_envs_cfg": false
  }
 },
 "nbformat": 4,
 "nbformat_minor": 2
}